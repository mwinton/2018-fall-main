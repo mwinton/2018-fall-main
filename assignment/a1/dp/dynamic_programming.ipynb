{
  "cells": [
    {
      "cell_type": "markdown",
      "metadata": {},
      "source": [
        "# Dynamic Programming\n",
        "\n",
        "We hope dynamic programming isn't a completely new idea to you.  If it is, not to worry, this part of the assignment is designed to make sure everyone has the base they need to do well in the rest of the class.\n",
        "\n",
        "## Purpose\n",
        "\n",
        "The simplest way to think about dynamic programming, \"DP\", is nothing more than as an approach to optimize an algorithm:\n",
        "\n",
        "1.  Find an algorithm that \"brute forces\" a problem\n",
        "2.  Notice that it fits into the the class of algorithms DP can optimize\n",
        "3.  Implement algorithm using DP\n",
        "\n",
        "Dynamic programming does **not** have anything to do with on-the-fly code generation, online reinforcement learning, editing/optimizing compiled code while it's running... or anything else fancy.  So what does it do?  Read on!\n",
        "\n",
        "## Approach\n",
        "\n",
        "It boils down to a simple idea:  _don't let your code do the same work twice_.  In practice, this means that you should cache intermediate results (say, in a table).  Each time you need to evaluate a function with the same input after the first, you can look up the result in the cache rather than recomputing it.\n",
        "\n",
        "You will sometimes hear DP is used for problems whose solutions are combinations of the solutions to \"optimal subproblems\".  Unpacking this a little bit:  if each solution is just a combination of smaller versions of the same problem, and you cache the results of the smaller problems as you go, to the extent that you need those solutions in more than one place, you'll get a speed up.  For many problems, an exponential time naive implementation can be made to run in polynomial time.\n",
        "\n",
        "**Don't let this sound complicated to you.**  All we're doing is adding a cache to avoid recomputing an \"expensive\" function.  Any time you see a problem that sounds like, \"Try every possible combination of X and pick the best\", you should think \"I wonder if there are any partial results here we can cache and reuse\".\n",
        "\n",
        "## Why is this important for natural language processing?\n",
        "\n",
        "In the second half of the course, we'll study tasks where the desired output is a sequence, a tree, or another type of rich structure. Unlike simple classification problems, we can't easily enumerate all the possible outputs - because there are exponentially many!\n",
        "\n",
        "In many such tasks, we can still decompose them into sub-problems, like predicting a single branch of a tree. Then by using dynamic programming, we can devise an efficient algorithm to find the highest-scoring solution. We'll make heavy use of this approach when we study parsing and sequence labeling tasks like part-of-speech tagging.\n",
        "\n",
        "Dynamic programming is also useful as a conceptual tool. Decomposing a large problem into subproblems can be as useful for us as for computers, since it lets us reason about small, controlled cases and extend them into a more complex solution. Dynamic programming is also closely related to recursion - a concept underlying many fundamental ideas in both computer science and linguistics."
      ]
    },
    {
      "cell_type": "markdown",
      "metadata": {},
      "source": [
        "## Example: Climbing the stairs\n",
        "\n",
        "Let's say you want to compute the total number of ways you can run up a flight of stairs.  At each step $k$ you can either:\n",
        "\n",
        "- Take a regular step up to $k + 1$\n",
        "- Take a big step up to $k + 2$.\n",
        "\n",
        "Starting on stair $0$ (the bottom floor), how many unique ways are there to get up a staircase with $n$ stairs?\n",
        "\n",
        "If you've not encountered this kind of problem before, **spend a minute pondering** how you might compute this.  It's common to feel \"lost\" in the combinatorial explosion of options.\n",
        "\n",
        "### Hint\n",
        "\n",
        "Could you figure out the number of ways up a staircase of height $n$ if you were told how many ways you might get up staircases of height $n - 1$ and $n - 2$?  That is, if you knew the solution to a _subproblem_, could you use that to compute the solution to your real problem?\n",
        "\n",
        "### Further Hint\n",
        "\n",
        "Say you can get to the second-to-the-top stair in 8 ways (and then take a big step) and the next-to-the-top stair in 13 ways (and then take a small step).  How many ways to the top?  8 + 13 = 21.  (Note that you don't have to count \"get to second-to-the-top and take two regular steps\" separately because the \"13\" already includes them.)\n",
        "\n",
        "### Solution\n",
        "\n",
        "In general, if there are $ways(n - 1)$ to get to the $n - 1$ stair, you can use any of those methods to get there and then take a regular step to get to stair $n$.  Similarly, if you have $ways(n - 2)$ to get to the $n - 2$ step and then take a big step to stair $n$.  There is no other way to get to stair $n$ except by one of those two sets of options.  There is no overlap between those sets of sequences as sequences in the first set always end in a \"regular\" step and those sequences in the second set always end in a \"big\" step.\n",
        "\n",
        "In math, $ways(n) = ways(n-1) + ways(n-2)$.\n",
        "\n",
        "Also notice (imagine, or draw a picture), $ways(1) = 1$ and $ways(2) = 2$.\n",
        "\n",
        "*Aside: you may recognize this as the famous [Fibonacci series](https://en.wikipedia.org/wiki/Fibonacci_number).*\n",
        "\n",
        "The next cell shows one implementation."
      ]
    },
    {
      "cell_type": "code",
      "execution_count": 1,
      "metadata": {},
      "outputs": [],
      "source": [
        "def naive_ways(n):\n",
        "    \"\"\"Return the ways up a staircase of length n. Uses a naive algorithm.\"\"\"\n",
        "    if n == 1:\n",
        "        return 1\n",
        "    if n == 2:\n",
        "        return 2\n",
        "    \n",
        "    return naive_ways(n - 1) + naive_ways(n - 2)\n",
        "\n",
        "naive_ways(3)"
      ]
    },
    {
      "cell_type": "markdown",
      "metadata": {},
      "source": [
        "**Great!**\n",
        "\n",
        "Unfortunately, this implementation gets very slow for large $n$. The cell below will print some timing information."
      ]
    },
    {
      "cell_type": "code",
      "execution_count": 1,
      "metadata": {
        "collapsed": true
      },
      "outputs": [],
      "source": [
        "# TIMING INFO FOR PART A\n",
        "for n in range(20, 25+1):\n",
        "    print(\"n=%d: \" % n),\n",
        "    %timeit -n25 naive_ways(n)"
      ]
    },
    {
      "cell_type": "code",
      "execution_count": 2,
      "metadata": {
        "collapsed": true
      },
      "outputs": [],
      "source": [
        "# Try with slightly-larger n.\n",
        "%timeit -n1 naive_ways(35)"
      ]
    },
    {
      "cell_type": "markdown",
      "metadata": {},
      "source": [
        "If we try to handle a staircase with 100 steps, it'll take a _very_ long time with our naive implementation.  (If you decide to try it, you'll want to interrupt your kernel instead of wait for the result!)"
      ]
    },
    {
      "cell_type": "markdown",
      "metadata": {},
      "source": [
        "## A. Short Answer Questions\n",
        "\n",
        "Give *brief* answers to the following in the cell below.\n",
        "\n",
        "1. Based on the timing numbers from the `# TIMING INFO FOR PART A` cell above, approximately how much slower is $ways(n)$ than $ways(n-1)$? (i.e. what is $\\frac{time(ways(n))}{time(ways(n-1))}$, roughly?)\n",
        "\n",
        "2.  Why is this so slow?  What calculations do we compute repeatedly?  Hint: consider the following diagram.\n",
        "![DP diagram](dp.png)\n",
        "\n",
        "3. **Food for thought (not graded):** Assuming that $time(ways(n)) = time(ways(n-1)) + time(ways(n-2))$, what is $\\lim_{n\\to\\infty} \\frac{time(ways(n))}{time(ways(n-1))}$?"
      ]
    },
    {
      "cell_type": "markdown",
      "metadata": {},
      "source": [
        "## Apply Dynamic Programming\n",
        "\n",
        "Let's see if we can compute the results more cleverly, by keeping a cache (or table) of intermediate results that we can re-use.\n",
        "\n",
        "First answer the following questions, then use what you gleaned to examine the code.\n",
        "\n",
        "### B. Short Answer Questions\n",
        "1. What are the values of A, B, and C in this table?\n",
        "<html><table>\n",
        "<tr><td>n</td><td>ways(n)</td></tr>\n",
        "<tr><td>1</td><td>1</td></tr>\n",
        "<tr><td>2</td><td>2</td></tr>\n",
        "<tr><td>3</td><td>3</td></tr>\n",
        "<tr><td>4</td><td>5</td></tr>\n",
        "<tr><td>5</td><td>8</td></tr>\n",
        "<tr><td>6</td><td>13</td></tr>\n",
        "<tr><td>7</td><td>$A$</td></tr>\n",
        "<tr><td>8</td><td>$B$</td></tr>\n",
        "<tr><td>9</td><td>$C$</td></tr>\n",
        "</table>\n",
        "</html>\n",
        "<p>\n",
        "2. To compute these values, did you look at $n=4$ or earlier?\n",
        "<p>\n",
        "3. What is the minimum number of values you need to keep as you fill the table from top to bottom, while maintaining the DP property of not recomputing any values?  \n",
        "<p>"
      ]
    },
    {
      "cell_type": "code",
      "execution_count": 3,
      "metadata": {
        "collapsed": true
      },
      "outputs": [],
      "source": [
        "def dynamic_programming_ways(n):\n",
        "    \"\"\"Return the ways up a staircase of length n.\"\"\"\n",
        "    #  Initialize the cache to the answer for staircases of length one (1 way) and two (2 ways).\n",
        "    cache = [1, 2]\n",
        "    \n",
        "    # Extend the cache, reusing the results we already have in the cache.\n",
        "    # (For the mathematically inclined, you may see some\n",
        "    #  parallels between DP and proof by induction.)\n",
        "    for i in range(n - 2):\n",
        "        cache.append(cache[i] + cache[i + 1])\n",
        "        \n",
        "    # We've extended the cache far enough that we can look up staircase of length n.\n",
        "    # (Note that all the indices are one lower than the staircase, right from the\n",
        "    #  time of initialization, hence the -1.)\n",
        "    return cache[n - 1]\n",
        "\n",
        "assert dynamic_programming_ways(1) == 1\n",
        "assert dynamic_programming_ways(2) == 2\n",
        "assert dynamic_programming_ways(100) == 573147844013817084101\n",
        "\n",
        "%time dynamic_programming_ways(100)"
      ]
    },
    {
      "cell_type": "markdown",
      "metadata": {},
      "source": [
        "We can tweak things a little bit to reduce the memory footprint.  As seen in the short answer questions and in the code, you only need `cache[i-2]` and `cache[i-1]` to compute `cache[i]`.  Keeping earlier results from the cache are a bit of a waste."
      ]
    },
    {
      "cell_type": "code",
      "execution_count": 4,
      "metadata": {
        "collapsed": true
      },
      "outputs": [],
      "source": [
        "def dynamic_programming_ways_efficient(n):\n",
        "    \"\"\"Return the ways up a staircase of length n.\"\"\"\n",
        "    #  Initialize the cache to the answer for staircases of length one (1 way) and two (2 ways).\n",
        "    #  (We need to do some special casing here for n=1.  We could avoid this by initializing\n",
        "    #   cache_i_1 == 1 as well and changing the for loop to be range(n-1).  Think about why...)\n",
        "    if n == 1:\n",
        "        return 1\n",
        "    \n",
        "    cache_i_2 = 1\n",
        "    cache_i_1 = 2\n",
        "    \n",
        "    # Extend the cache, reusing the results we already have in the cache.\n",
        "    # (For the mathematically inclined, you'll be excused if you see some\n",
        "    #  parallels between DP and proof by induction.)\n",
        "    for i in range(n - 2):\n",
        "        new_value = cache_i_1 + cache_i_2\n",
        "        cache_i_2 = cache_i_1\n",
        "        cache_i_1 = new_value\n",
        "        \n",
        "    # We've extended the cache far enough that we can look up staircase of length n.\n",
        "    # (Note that all the indices are one lower than the staircase, right from the\n",
        "    #  time of initialization, hence the -1.)\n",
        "    return cache_i_1\n",
        "\n",
        "assert dynamic_programming_ways_efficient(1) == 1\n",
        "assert dynamic_programming_ways_efficient(2) == 2\n",
        "assert dynamic_programming_ways_efficient(100) == 573147844013817084101\n",
        "\n",
        "%time dynamic_programming_ways_efficient(100)"
      ]
    },
    {
      "cell_type": "markdown",
      "metadata": {},
      "source": [
        "## Pipe cutting\n",
        "\n",
        "Another problem suceptible to optimization with DP is pipe cutting.  Here, we are given a metal pipe of length $n$ and a price list, the price at which you can sell various parts of the pipe.  For the purposes of this exercise, let's write the code as though different parts of the pipe could yield different amounts of money, even if they're the same length.  Our objective is to cut the pipe into pieces such that they fetch the most revenue.\n",
        "\n",
        "Similar to the stairs, we're going to slowly build a table up mapping the length of bars to the profit to be had.  If I have a bar of length 1, what's the most profitable way of cutting it up?  What about length 2?  Length 3? etc.  By keeping these intermediate results around, when we try cutting a length 10 pipe in one place, we can efficiently determine the profit made by optimally cutting the resulting left and right subpieces up.\n",
        "\n",
        "Inspect the code below.\n",
        "\n",
        "### Why do we care?\n",
        "\n",
        "It turns out the pipe cutting problem is (very) closely related to DP algorithms for segmentation in NLP, as we'll see in more detail below. In Assignment 5, you'll implement the CKY algorithm for parsing, which is a sort of two-sided version of pipe-cutting that allows us to produce tree structures."
      ]
    },
    {
      "cell_type": "code",
      "execution_count": 5,
      "metadata": {
        "collapsed": true
      },
      "outputs": [],
      "source": [
        "price_list = [0.0, -3.4, -5.7, 17.6, 2.2, 86.3]\n",
        "def pipe_profit(left, right):\n",
        "    \"\"\"$ profit for the part of the bar in interval [left, right).\n",
        "   \n",
        "       Negative prices are a result of being unable to sell them\n",
        "       and having to pay for disposal.  (Actually, as we'll learn\n",
        "       later in the class, language models often produce -'ve scores,\n",
        "       so we'll want to make sure our pipe splitting algorithm is robust\n",
        "       to such scores when we use it in combination with a language model\n",
        "       below.  Don't worry, you don't need to know anything about\n",
        "       language models for this assignment.)\n",
        "    \"\"\"\n",
        "    n = right - left\n",
        "    if n < 0 or n >= len(price_list):\n",
        "        return 0.0\n",
        "    return price_list[n]\n",
        "\n",
        "# DP cache for the function below.\n",
        "def best_cuts(n, score):\n",
        "    \"\"\"Determine the optimal revenue possible by (optionally) cutting a bar\n",
        "       of length n.\n",
        "\n",
        "    Args:\n",
        "      n: the length of the pipe\n",
        "      score: a function that accepts \"left\" and \"right and gives you the score\n",
        "             (revenue) received for the segment of pipe extending the interval\n",
        "             from [left, right)\n",
        "    \n",
        "    Returns:\n",
        "      The best profit to be had for a pipe of length n.\n",
        "    \"\"\"\n",
        "        \n",
        "    profit_on_left_most = []\n",
        "    for k in range(n + 1):\n",
        "        # What if we don't split the k-length bar at all?\n",
        "        profit_on_left_most.append(score(0, k))\n",
        "        \n",
        "        # Maybe split it up.  Pick a split location at \"j\", optimally split the left\n",
        "        # hand side but keep the right hand side whole.\n",
        "        # (Answer below why this doesn't skip any options.)\n",
        "        for j in range(k):\n",
        "            potential_profit = profit_on_left_most[j] + score(j, k)\n",
        "            if potential_profit > profit_on_left_most[k]:\n",
        "                profit_on_left_most[k] = potential_profit\n",
        "    \n",
        "    return profit_on_left_most[n]\n",
        "   \n",
        "profit_on_9 = round(best_cuts(9, pipe_profit), 1)\n",
        "assert 100.5 == profit_on_9\n",
        "\n",
        "profit_on_9"
      ]
    },
    {
      "cell_type": "markdown",
      "metadata": {},
      "source": [
        "## C. Short Answer Questions\n",
        "\n",
        "1. In the inner loop, why do we only need to try each location of a single cut (at `j`)?  Why don't we need to try cutting the bar into three or more pieces?\n",
        "\n",
        "2. Answer the question posed in the code:  Why do we not need to optimally split both sides of `j`?  In other words, why can we get away with only taking the optimal split (`profit_on_left_most`) on the left and just `score()` the right?\n",
        "\n",
        "3. Where are the cuts you should make for n=9?  Be sure to explain your work.  _(Hint:  Add a \"print\" to the code to see where you end up updating the profit made.  Leave this code in when you submit.)_"
      ]
    },
    {
      "cell_type": "markdown",
      "metadata": {},
      "source": [
        "## Bookkeeping\n",
        "\n",
        "Great!  We know we can make over a hundred dollars cutting up our length 9 bar!\n",
        "\n",
        "Unfortunately, while we computed the revenue available by cutting the bar, we didn't actually track the cuts we need to make in order to earn it!\n",
        "\n",
        "## D. Coding Exercise\n",
        "**Finish modifying the code (in the cell below)** to keep track of the cuts you made in order to achieve the optimal revenue.\n",
        "\n",
        "i.e. `potential_profit[4]` might be `(39.5, [1, 2])`."
      ]
    },
    {
      "cell_type": "code",
      "execution_count": 6,
      "metadata": {
        "collapsed": true
      },
      "outputs": [],
      "source": [
        "# DP cache for the function below.\n",
        "def best_cuts_with_trace(n, score):\n",
        "    \"\"\"Determine the optimal revenue possible by (optionally) cutting a bar\n",
        "       of length n.\n",
        "\n",
        "    Args:\n",
        "      n: the length of the pipe\n",
        "      score: a function that accepts \"left\" and \"right and gives you the score\n",
        "             (revenue) received for the segment of pipe extending the interval\n",
        "             from [left, right)\n",
        "    \n",
        "    Returns:\n",
        "      The best profit to be had for a pipe of length n.\n",
        "    \"\"\"\n",
        "        \n",
        "    profit_on_left_most = []\n",
        "    for k in range(n + 1):\n",
        "        # What if we don't split the k-length bar at all?\n",
        "        profit_on_left_most.append((score(0, k), []))  # We did this part for you:  no cuts, so [].\n",
        "        \n",
        "        # Maybe split it up.  Pick a split location at \"j\", optimally split the left\n",
        "        # hand side but keep the right hand side whole.\n",
        "        # (Answer below why this doesn't skip any options.)\n",
        "        for j in range(k):\n",
        "            pass  # Placeholder so python doesn't complain about having no body.\n",
        "            # YOUR CODE HERE\n",
        "            # In the previous cell, this block looked like this:\n",
        "            # potential_profit = profit_on_left_most[j] + score(j, k)\n",
        "            # if potential_profit > profit_on_left_most[k]:\n",
        "            #     profit_on_left_most[k] = potential_profit\n",
        "            #\n",
        "            # Hint:  When adding \"j\" to the list of cuts already required, use:\n",
        "            # original_list + [j], not original_list.append(j).  You don't want to edit that original\n",
        "            # list (since then it'll be wrong in its original place).\n",
        "            \n",
        "            \n",
        "            # END YOUR CODE HERE\n",
        "\n",
        "    return profit_on_left_most[n]\n",
        "\n",
        "   \n",
        "result = best_cuts_with_trace(9, pipe_profit)\n",
        "# You may end up with [4, 1] (or if you edit a lot more code than you need to, other equivalent sets of cuts).\n",
        "# At the very least, make sure you return them sorted as the code below relies on it.\n",
        "# You should NOT end up with a cut at 0 or a cut at 9.  That's the end of the bar already - no need to cut again!\n",
        "assert result == (100.5, [1, 4])\n",
        "assert result[1] == sorted(result[1])\n",
        "result"
      ]
    },
    {
      "cell_type": "markdown",
      "metadata": {},
      "source": [
        "We'll see bookkeeping like this throughout the rest of the course.  For example, we'll want to know the optimal way to tag words in a sentence with their parts of speech.  The optimization will be over some likelihood of a particular assignment (rather than revenue).  This optimization is only useful to us however if we have a way to know what sequence of part of speech tags gave us that score, so we'll have to do this same kind of bookkeeping."
      ]
    },
    {
      "cell_type": "markdown",
      "metadata": {},
      "source": [
        "## Pipe cutting is segmentation\n",
        "The next cell implements a very light wrapper around your best_cuts_with_trace function (it just takes the cut indexes your function returns and turns them into text to pretty-print).  It also implements a simple unigram language model (much simpler than what you will build in later assignments!). \n",
        "\n",
        "Don't worry about the details here, this is just a fun coda to the assignment!  Figuring out these details will be the work of the rest of the course.\n",
        "\n",
        "Feel free to experiment with some sentences.  See if you can find at least one that breaks it, yielding a sub-optimal segmentation. If the dynamic programming algorithm is exact (finds the highest scoring split), how can it produce a bad solution?"
      ]
    },
    {
      "cell_type": "code",
      "execution_count": 8,
      "metadata": {
        "collapsed": true
      },
      "outputs": [],
      "source": [
        "import numpy as np\n",
        "\n",
        "##\n",
        "# Compute unigram counts from a simple corpus.\n",
        "unigram_counts = {}\n",
        "total_counts = 0\n",
        "for line in open('english_uni_simplified_sorted_top').readlines():\n",
        "    word_and_count = line.split()\n",
        "    word = word_and_count[0].strip('\"')\n",
        "    count = int(word_and_count[1])\n",
        "    unigram_counts[word] = count\n",
        "    total_counts += count\n",
        "\n",
        "def unigram_scoring_function(text, left, right):\n",
        "    word = text[left:right]\n",
        "    if word in unigram_counts:\n",
        "        # Log probabilities, so we can add scores instead of multiplying\n",
        "        return np.log(unigram_counts[word]) - np.log(total_counts)\n",
        "    else:  \n",
        "        # \"Smoothing\", encouraging in-vocabulary, or at least short OOV words.\n",
        "        # We give a lower score to longer out-of-vocabulary spans.\n",
        "        return -100 * (right - left)\n",
        "        \n",
        "##\n",
        "# Use the pipe-cutting algorithm to segment text.\n",
        "def segment(text):\n",
        "    # We create a scoring lambda that accepts two parameters, \"left\" and \"right\", as required by the\n",
        "    # code you implemented above.  However, we also need access to the \"text\" in order\n",
        "    # to score the unigram.  A lambda captures the local variable \"text\" for this purpose.\n",
        "    score_func = lambda left, right: unigram_scoring_function(text, left, right)\n",
        "    \n",
        "    # Call your function to slice the string.\n",
        "    score, cuts = best_cuts_with_trace(len(text), score_func)\n",
        "    \n",
        "    # Imply a \"cut\" at the start and end of the text so that the list comprehension below is convenient.\n",
        "    cuts = [0] + cuts + [len(text)]\n",
        "    \n",
        "    # Convert the list of cuts into a list of words.\n",
        "    return score, [text[cuts[i] : cuts[i + 1]] for i in range(len(cuts) - 1)]"
      ]
    },
    {
      "cell_type": "code",
      "execution_count": 7,
      "metadata": {
        "collapsed": true
      },
      "outputs": [],
      "source": [
        "segment('helloworldhowareyou')"
      ]
    },
    {
      "cell_type": "code",
      "execution_count": 8,
      "metadata": {
        "collapsed": true,
        "scrolled": true
      },
      "outputs": [],
      "source": [
        "segment('downbythebay')"
      ]
    },
    {
      "cell_type": "code",
      "execution_count": 9,
      "metadata": {
        "collapsed": true,
        "scrolled": true
      },
      "outputs": [],
      "source": [
        "segment('wikipediaisareallystrongresourceontheinternet')"
      ]
    },
    {
      "cell_type": "markdown",
      "metadata": {},
      "source": [
        "## Congratulations!\n",
        "\n",
        "You're done with Dynamic Programming.\n",
        "\n",
        "There is a completely optional section that shouldn't take very long, if you're keen to learn about edit distance.  We won't delve into much detail about this anywhere else in the class."
      ]
    },
    {
      "cell_type": "markdown",
      "metadata": {},
      "source": [
        "## (Optional) String edit distance\n",
        "\n",
        "Another classic DP problem in the NLP space - but not one we otherwise will talk about in the course is the idea of \"[edit distance](https://en.wikipedia.org/wiki/Levenshtein_distance)\".  It's a way of measuring how many \"edits\" to one string you need to make in order to turn it into another.\n",
        "\n",
        "We've provided two implementations below for you to play with.\n",
        "\n",
        "1.  **levenshtein_cache:** The \"cache everything in a dict\" approach is first.  The keys are coordinates into a table that is len(str1) x len(str2) in size.\n",
        "\n",
        "2.  **levenshtein_explicit:** Similar to the version of ways(n) that only keeps the previous two values at hand, the explicit ordering approach only keeps the immediately previous row of the table while building the next. Setting the verbose flag to this version prints each row of the table out as it computes it."
      ]
    },
    {
      "cell_type": "markdown",
      "metadata": {},
      "source": [
        "## E. (Optional) Short Answer Questions:\n",
        "\n",
        "Give brief answers to the following in the cell below.\n",
        "\n",
        "1. Let `n = len(str1)` and `m = len(str2)`. In terms of `n` and `m`, what is the size of the DP table (cache) for computing Levenshtein distance? _Hint: how many valid keys are there? Do we use all of them?_\n",
        "<p>\n",
        "2. Based on your answer to 1., what is the running time (in Big-O notation) of the edit distance algorithm? _Hint: it takes $O(1)$ work at each step, assuming we have the needed cache entries._\n",
        "<p>\n",
        "\n",
        "3. Consider transpositions (that is, swapping adjacent characters), such as `xy` -> `yx`. How can we compose a transposition from insertions, deletions, and substitutions? What is the edit distance between `wxyz` and `wyxz`?\n",
        "<p>\n",
        "\n",
        "4. Suppose we wanted to handle transpositions directly, rather than allowing our algorithm to compose them from other operations. (This might be useful if we want to score them differently.) If we have for the other operations:\n",
        "```python\n",
        "_ed(i - 1, j) + 1  # insertion\n",
        "_ed(i, j - 1) + 1  # deletion\n",
        "_ed(i - 1, j - 1) + substitution  # substitution, free if letters match  \n",
        "```\n",
        "what line would we add (calling `_ed`) to handle a transposition? (You may want to define a variable `transposition_match` to check that a transposition makes sense at the current position.) Based on your answer to 1. and 2., does this change the Big-O runtime of the algorithm?"
      ]
    },
    {
      "cell_type": "code",
      "execution_count": 7,
      "metadata": {
        "collapsed": true
      },
      "outputs": [],
      "source": [
        "def levenshtein_cache(str1, str2):\n",
        "    cache = dict()\n",
        "    def _ed(i, j):\n",
        "        \"\"\"Recursive helper, using cache.\"\"\"\n",
        "        if (i,j) in cache: \n",
        "            return cache[(i,j)]\n",
        "        \n",
        "        # Base cases\n",
        "        if i == 0:\n",
        "            result = j\n",
        "        elif j == 0:\n",
        "            result = i\n",
        "            \n",
        "        # Main recursion\n",
        "        else:\n",
        "            # 1 if letters differ (substitution is free if the letters are the same)\n",
        "            substitution = 0 if str1[i - 1] == str2[j - 1] else 1\n",
        "            result = min([\n",
        "                    _ed(i - 1, j) + 1,  # insertion\n",
        "                    _ed(i, j - 1) + 1,  # deletion\n",
        "                    _ed(i - 1, j - 1) + substitution  # substitution, free if letters match  \n",
        "            ])\n",
        "        cache[(i,j)] = result\n",
        "        return result\n",
        "    \n",
        "    return _ed(len(str1), len(str2))"
      ]
    },
    {
      "cell_type": "code",
      "execution_count": 8,
      "metadata": {
        "collapsed": true
      },
      "outputs": [],
      "source": [
        "def levenshtein_explicit(str1, str2, verbose=False):\n",
        "    prev_num_edits = range(len(str1) + 1)\n",
        "    for j in range(1, len(str2) + 1):\n",
        "        num_edits = [prev_num_edits[0] + 1]\n",
        "        for i in range(1, len(str1) + 1):\n",
        "            # 1 if letters differ (substitution is free if the letters are the same)\n",
        "            substitution = 0 if str1[i - 1] == str2[j - 1] else 1\n",
        "            result = min([num_edits[i - 1] + 1,\n",
        "                          prev_num_edits[i] + 1,\n",
        "                          prev_num_edits[i - 1] + substitution\n",
        "            ])\n",
        "            num_edits.append(result)\n",
        "        if verbose:\n",
        "            print(prev_num_edits)\n",
        "        prev_num_edits = num_edits\n",
        "    if verbose:\n",
        "        print(prev_num_edits)\n",
        "    return prev_num_edits[len(str1)]"
      ]
    },
    {
      "cell_type": "code",
      "execution_count": 14,
      "metadata": {
        "collapsed": true
      },
      "outputs": [],
      "source": [
        "# Substitution.\n",
        "levenshtein_explicit('abc', 'dbc', verbose=True)"
      ]
    },
    {
      "cell_type": "code",
      "execution_count": 10,
      "metadata": {
        "collapsed": true
      },
      "outputs": [],
      "source": [
        "# Deletion.\n",
        "levenshtein_explicit('abc', 'ac')"
      ]
    },
    {
      "cell_type": "code",
      "execution_count": 11,
      "metadata": {
        "collapsed": true
      },
      "outputs": [],
      "source": [
        "# Insertion.\n",
        "levenshtein_explicit('ac', 'abc')"
      ]
    },
    {
      "cell_type": "code",
      "execution_count": 12,
      "metadata": {
        "collapsed": true
      },
      "outputs": [],
      "source": [
        "# All of the above.\n",
        "levenshtein_cache('kitten', 'sitting')"
      ]
    },
    {
      "cell_type": "code",
      "execution_count": 13,
      "metadata": {
        "collapsed": true
      },
      "outputs": [],
      "source": [
        "# Fun!\n",
        "levenshtein_cache('w266 class', 'with 6 classic tricks')"
      ]
    },
    {
      "cell_type": "code",
      "execution_count": null,
      "metadata": {
        "collapsed": true
      },
      "outputs": [],
      "source": []
    }
  ],
  "metadata": {
    "anaconda-cloud": {},
    "kernelspec": {
      "display_name": "Python 3",
      "language": "python",
      "name": "python3"
    },
    "language_info": {
      "codemirror_mode": {
        "name": "ipython",
        "version": 3
      },
      "file_extension": ".py",
      "mimetype": "text/x-python",
      "name": "python",
      "nbconvert_exporter": "python",
      "pygments_lexer": "ipython3",
      "version": "3.6.3"
    }
  },
  "nbformat": 4,
  "nbformat_minor": 2
}

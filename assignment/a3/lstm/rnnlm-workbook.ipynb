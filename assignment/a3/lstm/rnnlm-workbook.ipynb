{
  "cells": [
    {
      "cell_type": "markdown",
      "metadata": {},
      "source": [
        "# Recurrent Neural Network Language Model\n",
        "\n",
        "This is the \"working notebook\", with skeleton code to load and train your model, as well as run unit tests. See [rnnlm-instructions.ipynb](rnnlm-instructions.ipynb) for the main writeup.\n",
        "\n",
        "Run the cell below to import packages."
      ]
    },
    {
      "cell_type": "code",
      "execution_count": 1,
      "metadata": {},
      "outputs": [],
      "source": [
        "from __future__ import absolute_import\n",
        "from __future__ import print_function\n",
        "from __future__ import division\n",
        "\n",
        "import json, os, re, shutil, sys, time\n",
        "from importlib import reload\n",
        "import collections, itertools\n",
        "import unittest\n",
        "from IPython.display import display, HTML\n",
        "\n",
        "# NLTK for NLP utils and corpora\n",
        "import nltk\n",
        "\n",
        "# NumPy and TensorFlow\n",
        "import numpy as np\n",
        "import tensorflow as tf\n",
        "assert(tf.__version__.startswith(\"1.\"))\n",
        "\n",
        "# Helper libraries\n",
        "from w266_common import utils, vocabulary, tf_embed_viz\n",
        "\n",
        "# Your code\n",
        "import rnnlm; reload(rnnlm)\n",
        "import rnnlm_test; reload(rnnlm_test)"
      ]
    },
    {
      "cell_type": "markdown",
      "metadata": {},
      "source": [
        "## (a) RNNLM Inputs and Parameters  \n",
        "\n",
        "### Questions for Part (a)\n",
        "You should use big-O notation when appropriate (i.e. computing $\\exp(\\mathbf{v})$ for a vector $\\mathbf{v}$ of length $n$ is $O(n)$ operations).  Assume for problems a(1-5) that:   \n",
        "> -- Cell is one layer,  \n",
        "> -- the embedding feature length and hidden-layer feature lengths are both H, and   \n",
        "> -- ignore at the moment batch and max_time dimensions.  \n",
        "\n",
        "1. Let $\\text{CellFunc}$ be a simple RNN cell (see async Section 5.8). Write the cell equation in terms of nonlinearities and matrix multiplication. How many parameters (matrix or vector elements) are there for this cell, in terms of `V` and `H`?\n",
        "<p>\n",
        "2. How many parameters are in the embedding layer? In the output layer? (By parameters, we mean total number of matrix elements across all train-able tensors. A $m \\times n$ matrix has $mn$ elements.)\n",
        "<p>\n",
        "3. How many calculations (floating point operations) are required to compute $\\hat{P}(w^{(i+1)})$ for a given *single* target word $w^{(i+1)}$, assuming $w^{(i)}$ given and $h^{(i-1)}$ already computed? How about for *all* target words?\n",
        "<p>\n",
        "4. How does your answer to 3. change if we approximate $\\hat{P}(w^{(i+1)})$ with a sampled softmax with $k$ samples? How about if we use a hierarchical softmax? (*Recall that hierarchical softmax makes a series of left/right decisions using a binary classifier $P_s(\\text{right}) = \\sigma(u_s \\cdot o^{(i)} + b_s)$ at each split $s$ in the tree.*)\n",
        "<p>\n",
        "5. If you have an LSTM with $H = 200$ and use sampled softmax with $k = 100$, what part of the network takes up the most computation time during training? (*Choose \"embedding layer\", \"recurrent layer\", or \"output layer\"*.)\n",
        "\n",
        "Note: for $A \\in \\mathbb{R}^{m \\times n}$ and $B \\in \\mathbb{R}^{n \\times l}$, computing the matrix product $AB$ takes $O(mnl)$ time."
      ]
    },
    {
      "cell_type": "markdown",
      "metadata": {},
      "source": [
        "## (b) Implementing the RNNLM\n",
        "\n",
        "### Aside: Shapes Review\n",
        "\n",
        "Before we start, let's review our understanding of the shapes involved in this assignment and how they manifest themselves in the TF API.\n",
        "\n",
        "As in the [instructions](rnnlm-instructions.ipynb) notebook, $w$ is a matrix of wordids with shape batch_size x max_time.  Passing this through the embedding layer, we retrieve the word embedding for each, resulting in $x$ having shape batch_size x max_time x embedding_dim.  I find it useful to draw this out on a piece of paper.  When you do, you should end up with a rectangular prism with batch_size height, max_time width and embedding_dim depth.  Many tensors in this assignment share this shape (e.g. $o$, the output from the LSTM, which represents the hidden layer going into the softmax to make a prediction at every time step in every batch).\n",
        "\n",
        "![Three Dimensional Shape](common_shape.png)\n",
        "\n",
        "Since batch size and sentence length are only resolved when we run the graph, we construct the placeholder using \"None\" in the dimensions we don't know.  The .shape property renders these as ?s.  This should be familiar to you from batch size handling in earlier assignments, only now there are two dimensions of variable length.\n",
        "\n",
        "See the next cell for a concrete example (though in practice, we'd use a TensorFlow variable that we can train for the embeddings rather than a static array).  Notice how the shape of x_val matches the shape described earlier in this cell."
      ]
    },
    {
      "cell_type": "code",
      "execution_count": 2,
      "metadata": {},
      "outputs": [],
      "source": [
        "tf.reset_default_graph()\n",
        "\n",
        "wordid_ph = tf.placeholder(tf.int32, shape=[None, None])\n",
        "embedding_matrix = np.array([[1, 1, 1], [2, 2, 2], [3, 3, 3]])\n",
        "x = tf.nn.embedding_lookup(embedding_matrix, wordid_ph)\n",
        "\n",
        "print('wordid placeholder shape:', wordid_ph.shape)\n",
        "print('x shape:', x.shape)\n",
        "\n",
        "sess = tf.Session()\n",
        "# Two sentences, each with four words.\n",
        "wordids = [[1, 2, 1, 2], [0, 0, 0, 0]]\n",
        "x_val = sess.run(x, feed_dict={wordid_ph: wordids})\n",
        "print('Embeddings shape:', x_val.shape)  # 2 sentences, 4 words, \n",
        "print('Embeddings value:\\n', x_val)"
      ]
    },
    {
      "cell_type": "markdown",
      "metadata": {},
      "source": [
        "### Implmenting the RNNLM\n",
        "\n",
        "In order to better manage the model parameters, we'll implement our RNNLM in the `RNNLM` class in `rnnlm.py`. We've given you a skeleton of starter code for this, but the bulk of the implementation is left to you."
      ]
    },
    {
      "cell_type": "code",
      "execution_count": 3,
      "metadata": {
        "collapsed": true,
        "scrolled": true
      },
      "outputs": [],
      "source": [
        "reload(rnnlm)\n",
        "\n",
        "TF_GRAPHDIR = \"/tmp/w266/a3_graph\"\n",
        "\n",
        "# Clear old log directory.\n",
        "shutil.rmtree(TF_GRAPHDIR, ignore_errors=True)\n",
        "\n",
        "lm = rnnlm.RNNLM(V=10000, H=200, num_layers=2)\n",
        "lm.BuildCoreGraph()\n",
        "lm.BuildTrainGraph()\n",
        "lm.BuildSamplerGraph()\n",
        "\n",
        "summary_writer = tf.summary.FileWriter(TF_GRAPHDIR, lm.graph)"
      ]
    },
    {
      "cell_type": "markdown",
      "metadata": {},
      "source": [
        "The code above will load your implementation, construct the graph, and write a logdir for TensorBoard. You can bring up TensorBoard with:\n",
        "```\n",
        "cd assignment/a3\n",
        "tensorboard --logdir /tmp/w266/a3_graph --port 6006\n",
        "```\n",
        "As usual, check http://localhost:6006/ and visit the \"Graphs\" tab to inspect your implementation. Remember, judicious use of `tf.name_scope()` and/or `tf.variable_scope()` will greatly improve the visualization, and make code easier to debug."
      ]
    },
    {
      "cell_type": "markdown",
      "metadata": {},
      "source": [
        "We've provided a few unit tests below to verify some *very* basic properties of your model."
      ]
    },
    {
      "cell_type": "code",
      "execution_count": 4,
      "metadata": {},
      "outputs": [],
      "source": [
        "reload(rnnlm); reload(rnnlm_test)\n",
        "utils.run_tests(rnnlm_test, [\"TestRNNLMCore\", \"TestRNNLMTrain\", \"TestRNNLMSampler\"])"
      ]
    },
    {
      "cell_type": "markdown",
      "metadata": {},
      "source": [
        "Note that the error messages are intentionally somewhat spare, and that passing tests are no guarantee of model correctness! Your best chance of success is through careful coding and understanding of how the model works."
      ]
    },
    {
      "cell_type": "markdown",
      "metadata": {},
      "source": [
        "## (c) Training your RNNLM (5 points)\n",
        "\n",
        "We'll give you data loader functions in **`utils.py`**. They work similarly to the loaders in the Week 5 notebook.\n",
        "\n",
        "Particularly, `utils.rnnlm_batch_generator` will return an iterator that yields minibatches in the correct format. Batches will be of size `[batch_size, max_time]`, and consecutive batches will line up along rows so that the final state $h^{\\text{final}}$ of one batch can be used as the initial state $h^{\\text{init}}$ for the next.\n",
        "\n",
        "For example, using a toy corpus:  \n",
        "*(Ignore the ugly formatter code.)*"
      ]
    },
    {
      "cell_type": "code",
      "execution_count": 5,
      "metadata": {},
      "outputs": [],
      "source": [
        "toy_corpus = \"<s> Mary had a little lamb . <s> The lamb was white as snow . <s>\"\n",
        "toy_corpus = np.array(toy_corpus.split())\n",
        "\n",
        "html = \"<h3>Input words w:</h3>\"\n",
        "html += \"<table><tr><th>Batch 0</th><th>Batch 1</th></tr><tr>\"\n",
        "bi = utils.rnnlm_batch_generator(toy_corpus, batch_size=2, max_time=4)\n",
        "for i, (w,y) in enumerate(bi):\n",
        "    cols = [\"w_%d\" % d for d in range(w.shape[1])]\n",
        "    html += \"<td>{:s}</td>\".format(utils.render_matrix(w, cols=cols, dtype=object))\n",
        "html += \"</tr></table>\"\n",
        "display(HTML(html))\n",
        "\n",
        "html = \"<h3>Target words y:</h3>\"\n",
        "html += \"<table><tr><th>Batch 0</th><th>Batch 1</th></tr><tr>\"\n",
        "bi = utils.rnnlm_batch_generator(toy_corpus, batch_size=2, max_time=4)\n",
        "for i, (w,y) in enumerate(bi):\n",
        "    cols = [\"y_%d\" % d for d in range(y.shape[1])]\n",
        "    html += \"<td>{:s}</td>\".format(utils.render_matrix(y, cols=cols, dtype=object))\n",
        "html += \"</tr></table>\"\n",
        "display(HTML(html))"
      ]
    },
    {
      "cell_type": "markdown",
      "metadata": {},
      "source": [
        "Note that the data we feed to our model will be word indices, but the shape will be the same."
      ]
    },
    {
      "cell_type": "markdown",
      "metadata": {},
      "source": [
        "### 1. Implement the `run_epoch` function\n",
        "We've given you some starter code for logging progress; fill this in with actual call(s) to `session.run` with the appropriate arguments to run a training step. \n",
        "\n",
        "Be sure to handle the initial state properly at the beginning of an epoch, and remember to carry over the final state from each batch and use it as the initial state for the next.\n",
        "\n",
        "**Note:** we provide a `train=True` flag to enable train mode. If `train=False`, this function can also be used for scoring the dataset - see `score_dataset()` below.\n",
        "\n",
        "#### Questions\n",
        "\n",
        "1.  Explain what this function does.  Be sure to include the role of `batch_iterator` and what's going on with `h` in the inner loop."
      ]
    },
    {
      "cell_type": "code",
      "execution_count": 6,
      "metadata": {
        "collapsed": true
      },
      "outputs": [],
      "source": [
        "def run_epoch(lm, session, batch_iterator,\n",
        "              train=False, verbose=False,\n",
        "              tick_s=10, learning_rate=None):\n",
        "    assert(learning_rate is not None)\n",
        "    start_time = time.time()\n",
        "    tick_time = start_time  # for showing status\n",
        "    total_cost = 0.0  # total cost, summed over all words\n",
        "    total_batches = 0\n",
        "    total_words = 0\n",
        "\n",
        "    if train:\n",
        "        train_op = lm.train_step_\n",
        "        use_dropout = True\n",
        "        loss = lm.train_loss_\n",
        "    else:\n",
        "        train_op = tf.no_op()\n",
        "        use_dropout = False  # no dropout at test time\n",
        "        loss = lm.loss_  # true loss, if train_loss is an approximation\n",
        "\n",
        "    for i, (w, y) in enumerate(batch_iterator):\n",
        "        # At first batch in epoch, get a clean intitial state.\n",
        "        if i == 0:\n",
        "            h = session.run(lm.initial_h_, {lm.input_w_: w})\n",
        "\n",
        "        feed_dict = {\n",
        "            lm.input_w_: w,\n",
        "            lm.target_y_: y,\n",
        "            lm.initial_h_: h,\n",
        "            lm.learning_rate_: learning_rate,\n",
        "            lm.use_dropout_: use_dropout\n",
        "        }\n",
        "        ops = [loss, lm.final_h_, train_op]        \n",
        "        #### YOUR CODE HERE ####\n",
        "        # session.run(...) the ops with the feed_dict constructed above.\n",
        "        # Ensure \"cost\" becomes the value of \"loss\".\n",
        "        # Hint: see \"ops\" for other variables that need updating in this loop.\n",
        "        cost = 0.0\n",
        "        #### END(YOUR CODE) ####\n",
        "        total_cost += cost\n",
        "        total_batches = i + 1\n",
        "        total_words += w.size  # w.size = batch_size * max_time\n",
        "\n",
        "        ##\n",
        "        # Print average loss-so-far for epoch\n",
        "        # If using train_loss_, this may be an underestimate.\n",
        "        if verbose and (time.time() - tick_time >= tick_s):\n",
        "            avg_cost = total_cost / total_batches\n",
        "            avg_wps = total_words / (time.time() - start_time)\n",
        "            print(\"[batch {:d}]: seen {:d} words at {:.1f} wps, loss = {:.3f}\".format(\n",
        "                i, total_words, avg_wps, avg_cost))\n",
        "            tick_time = time.time()  # reset time ticker\n",
        "\n",
        "    return total_cost / total_batches"
      ]
    },
    {
      "cell_type": "code",
      "execution_count": 7,
      "metadata": {
        "collapsed": true
      },
      "outputs": [],
      "source": [
        "def score_dataset(lm, session, ids, name=\"Data\"):\n",
        "    # For scoring, we can use larger batches to speed things up.\n",
        "    bi = utils.rnnlm_batch_generator(ids, batch_size=100, max_time=100)\n",
        "    cost = run_epoch(lm, session, bi, \n",
        "                     learning_rate=0.0, train=False, \n",
        "                     verbose=False, tick_s=3600)\n",
        "    print(\"{:s}: avg. loss: {:.03f}  (perplexity: {:.02f})\".format(name, cost, np.exp(cost)))\n",
        "    return cost"
      ]
    },
    {
      "cell_type": "markdown",
      "metadata": {},
      "source": [
        "You can use the cell below to verify your implementation of `run_epoch`, and to test your RNN on a (very simple) toy dataset:"
      ]
    },
    {
      "cell_type": "code",
      "execution_count": 8,
      "metadata": {},
      "outputs": [],
      "source": [
        "reload(rnnlm); reload(rnnlm_test)\n",
        "th = rnnlm_test.RunEpochTester(\"test_toy_model\")\n",
        "th.setUp(); th.injectCode(run_epoch, score_dataset)\n",
        "unittest.TextTestRunner(verbosity=2).run(th)"
      ]
    },
    {
      "cell_type": "markdown",
      "metadata": {},
      "source": [
        "Note that as above, this is a *very* simple test case that does not guarantee model correctness."
      ]
    },
    {
      "cell_type": "markdown",
      "metadata": {},
      "source": [
        "### 2. Run Training\n",
        "\n",
        "We'll give you the outline of the training procedure, but you'll need to fill in a call to your `run_epoch` function. \n",
        "\n",
        "At the end of training, we use a `tf.train.Saver` to save a copy of the model to `/tmp/w266/a3_model/rnnlm_trained`. You'll want to load this from disk to work on later parts of the assignment; see **part (d)** for an example of how this is done.\n",
        "\n",
        "#### Tuning Hyperparameters\n",
        "With a sampled softmax loss, the default hyperparameters should train 5 epochs in around 15 minutes on a single-core GCE instance, and reach a training set perplexity between 120-140.\n",
        "\n",
        "However, it's possible to do significantly better. Try experimenting with multiple RNN layers (`num_layers` > 1) or a larger hidden state - though you may also need to adjust the learning rate and number of epochs for a larger model.\n",
        "\n",
        "You can also experiment with a larger vocabulary. This will look worse for perplexity, but will be a better model overall as it won't treat so many words as `<unk>`.\n",
        "\n",
        "#### Notes on Speed\n",
        "\n",
        "To speed things up, you may want to re-start your GCE instance with more CPUs. Using a 16-core machine will train *very* quickly if using a sampled softmax lost, almost as fast as a GPU. (Because of the sequential nature of the model, GPUs aren't actually much faster than CPUs for training and running RNNs.) The training code will print the words-per-second processed; with the default settings on a single core, you can expect around 8000 WPS, or up to more than 25000 WPS on a fast multi-core machine.\n",
        "\n",
        "You might also want to modify the code below to only run score_dataset at the very end, after all epochs are completed. This will speed things up significantly, since `score_dataset` uses the full softmax loss - and so often can take longer than a whole training epoch!\n",
        "\n",
        "#### Submitting your model\n",
        "You should submit your trained model along with the assignment. Do:\n",
        "```\n",
        "cp /tmp/w266/a3_model/rnnlm_trained* .\n",
        "git add rnnlm_trained*\n",
        "git commit -m \"Adding trained model.\"\n",
        "```\n",
        "Unless you train a very large model, these files should be < 50 MB and no problem for git to handle. If you do also train a large model, please only submit the smaller one."
      ]
    },
    {
      "cell_type": "code",
      "execution_count": 9,
      "metadata": {},
      "outputs": [],
      "source": [
        "# Load the dataset\n",
        "V = 10000\n",
        "vocab, train_ids, test_ids = utils.load_corpus(\"brown\", split=0.8, V=V, shuffle=42)"
      ]
    },
    {
      "cell_type": "code",
      "execution_count": null,
      "metadata": {
        "collapsed": true
      },
      "outputs": [],
      "source": [
        "# Training parameters\n",
        "max_time = 25\n",
        "batch_size = 100\n",
        "learning_rate = 0.01\n",
        "num_epochs = 10\n",
        "\n",
        "# Model parameters\n",
        "model_params = dict(V=vocab.size, \n",
        "                    H=200, \n",
        "                    softmax_ns=200,\n",
        "                    num_layers=2)\n",
        "\n",
        "TF_SAVEDIR = \"/tmp/w266/a3_model\"\n",
        "checkpoint_filename = os.path.join(TF_SAVEDIR, \"rnnlm\")\n",
        "trained_filename = os.path.join(TF_SAVEDIR, \"rnnlm_trained\")"
      ]
    },
    {
      "cell_type": "code",
      "execution_count": null,
      "metadata": {},
      "outputs": [],
      "source": [
        "# Will print status every this many seconds\n",
        "print_interval = 5\n",
        "\n",
        "lm = rnnlm.RNNLM(**model_params)\n",
        "lm.BuildCoreGraph()\n",
        "lm.BuildTrainGraph()\n",
        "\n",
        "# Explicitly add global initializer and variable saver to LM graph\n",
        "with lm.graph.as_default():\n",
        "    initializer = tf.global_variables_initializer()\n",
        "    saver = tf.train.Saver()\n",
        "    \n",
        "# Clear old log directory\n",
        "shutil.rmtree(TF_SAVEDIR, ignore_errors=True)\n",
        "if not os.path.isdir(TF_SAVEDIR):\n",
        "    os.makedirs(TF_SAVEDIR)\n",
        "\n",
        "with tf.Session(graph=lm.graph) as session:\n",
        "    # Seed RNG for repeatability\n",
        "    tf.set_random_seed(42)\n",
        "\n",
        "    session.run(initializer)\n",
        "\n",
        "    for epoch in range(1,num_epochs+1):\n",
        "        t0_epoch = time.time()\n",
        "        bi = utils.rnnlm_batch_generator(train_ids, batch_size, max_time)\n",
        "        print(\"[epoch {:d}] Starting epoch {:d}\".format(epoch, epoch))\n",
        "        #### YOUR CODE HERE ####\n",
        "        # Run a training epoch.\n",
        "\n",
        "        \n",
        "        #### END(YOUR CODE) ####\n",
        "        print(\"[epoch {:d}] Completed in {:s}\".format(epoch, utils.pretty_timedelta(since=t0_epoch)))\n",
        "    \n",
        "        # Save a checkpoint\n",
        "        saver.save(session, checkpoint_filename, global_step=epoch)\n",
        "    \n",
        "        ##\n",
        "        # score_dataset will run a forward pass over the entire dataset\n",
        "        # and report perplexity scores. This can be slow (around 1/2 to \n",
        "        # 1/4 as long as a full epoch), so you may want to comment it out\n",
        "        # to speed up training on a slow machine. Be sure to run it at the \n",
        "        # end to evaluate your score.\n",
        "        print(\"[epoch {:d}]\".format(epoch), end=\" \")\n",
        "        score_dataset(lm, session, train_ids, name=\"Train set\")\n",
        "        print(\"[epoch {:d}]\".format(epoch), end=\" \")\n",
        "        score_dataset(lm, session, test_ids, name=\"Test set\")\n",
        "        print(\"\")\n",
        "    \n",
        "    # Save final model\n",
        "    saver.save(session, trained_filename)"
      ]
    },
    {
      "cell_type": "markdown",
      "metadata": {},
      "source": [
        "## (d) Sampling Sentences (5 points)\n",
        "\n",
        "If you didn't already in **part (b)**, implement the `BuildSamplerGraph()` method in `rnnlm.py` See the function docstring for more information.\n",
        "\n",
        "#### Implement the `sample_step()` method below (5 points)\n",
        "This should access the Tensors you create in `BuildSamplerGraph()`. Given an input batch and initial states, it should return a vector of shape `[batch_size,1]` containing sampled indices for the next word of each batch sequence.\n",
        "\n",
        "Run the method using the provided code to generate 10 sentences."
      ]
    },
    {
      "cell_type": "code",
      "execution_count": null,
      "metadata": {
        "collapsed": true
      },
      "outputs": [],
      "source": [
        "def sample_step(lm, session, input_w, initial_h):\n",
        "    \"\"\"Run a single RNN step and return sampled predictions.\n",
        "  \n",
        "    Args:\n",
        "      lm : rnnlm.RNNLM\n",
        "      session: tf.Session\n",
        "      input_w : [batch_size] vector of indices\n",
        "      initial_h : [batch_size, hidden_dims] initial state\n",
        "    \n",
        "    Returns:\n",
        "      final_h : final hidden state, compatible with initial_h\n",
        "      samples : [batch_size, 1] vector of indices\n",
        "    \"\"\"\n",
        "    # Reshape input to column vector\n",
        "    input_w = np.array(input_w, dtype=np.int32).reshape([-1,1])\n",
        "  \n",
        "    #### YOUR CODE HERE ####\n",
        "    # Run sample ops\n",
        "\n",
        "\n",
        "    #### END(YOUR CODE) ####\n",
        "    # Note indexing here: \n",
        "    #   [batch_size, max_time, 1] -> [batch_size, 1]\n",
        "    return final_h, samples[:,-1,:]"
      ]
    },
    {
      "cell_type": "code",
      "execution_count": null,
      "metadata": {
        "collapsed": true
      },
      "outputs": [],
      "source": [
        "# Same as above, but as a batch\n",
        "max_steps = 20\n",
        "num_samples = 10\n",
        "random_seed = 42\n",
        "\n",
        "lm = rnnlm.RNNLM(**model_params)\n",
        "lm.BuildCoreGraph()\n",
        "lm.BuildSamplerGraph()\n",
        "\n",
        "with lm.graph.as_default():\n",
        "    saver = tf.train.Saver()\n",
        "\n",
        "with tf.Session(graph=lm.graph) as session:\n",
        "    # Seed RNG for repeatability\n",
        "    tf.set_random_seed(random_seed)\n",
        "    \n",
        "    # Load the trained model\n",
        "    saver.restore(session, trained_filename)\n",
        "\n",
        "    # Make initial state for a batch with batch_size = num_samples\n",
        "    w = np.repeat([[vocab.START_ID]], num_samples, axis=0)\n",
        "    h = session.run(lm.initial_h_, {lm.input_w_: w})\n",
        "    # We'll take one step for each sequence on each iteration \n",
        "    for i in range(max_steps):\n",
        "        h, y = sample_step(lm, session, w[:,-1:], h)\n",
        "        w = np.hstack((w,y))\n",
        "\n",
        "    # Print generated sentences\n",
        "    for row in w:\n",
        "        for i, word_id in enumerate(row):\n",
        "            print(vocab.id_to_word[word_id], end=\" \")\n",
        "            if (i != 0) and (word_id == vocab.START_ID):\n",
        "                break\n",
        "        print(\"\")"
      ]
    },
    {
      "cell_type": "markdown",
      "metadata": {
        "collapsed": true
      },
      "source": [
        "## (e) Linguistic Properties (5 points)\n",
        "\n",
        "Now that we've trained our RNNLM, let's test a few properties of the model to see how well it learns linguistic phenomena. We'll do this with a scoring task: given two or more test sentences, our model should score the more plausible (or more correct) sentence with a higher log-probability.\n",
        "\n",
        "We'll define a scoring function to help us:"
      ]
    },
    {
      "cell_type": "code",
      "execution_count": null,
      "metadata": {
        "collapsed": true
      },
      "outputs": [],
      "source": [
        "def score_seq(lm, session, seq, vocab):\n",
        "    \"\"\"Score a sequence of words. Returns total log-probability.\"\"\"\n",
        "    padded_ids = vocab.words_to_ids(utils.canonicalize_words([\"<s>\"] + seq + [\"</s>\"], \n",
        "                                                             wordset=vocab.word_to_id))\n",
        "    w = np.reshape(padded_ids[:-1], [1,-1])\n",
        "    y = np.reshape(padded_ids[1:],  [1,-1])\n",
        "    h = session.run(lm.initial_h_, {lm.input_w_: w})\n",
        "    feed_dict = {lm.input_w_:w,\n",
        "                 lm.target_y_:y,\n",
        "                 lm.initial_h_:h,\n",
        "                 lm.dropout_keep_prob_: 1.0}\n",
        "    # Return log(P(seq)) = -1*loss\n",
        "    return -1*session.run(lm.loss_, feed_dict)\n",
        "\n",
        "def load_and_score(inputs, sort=False):\n",
        "    \"\"\"Load the trained model and score the given words.\"\"\"\n",
        "    lm = rnnlm.RNNLM(**model_params)\n",
        "    lm.BuildCoreGraph()\n",
        "    \n",
        "    with lm.graph.as_default():\n",
        "        saver = tf.train.Saver()\n",
        "\n",
        "    with tf.Session(graph=lm.graph) as session:  \n",
        "        # Load the trained model\n",
        "        saver.restore(session, trained_filename)\n",
        "\n",
        "        if isinstance(inputs[0], str) or isinstance(inputs[0], bytes):\n",
        "            inputs = [inputs]\n",
        "\n",
        "        # Actually run scoring\n",
        "        results = []\n",
        "        for words in inputs:\n",
        "            score = score_seq(lm, session, words, vocab)\n",
        "            results.append((score, words))\n",
        "\n",
        "        # Sort if requested\n",
        "        if sort: results = sorted(results, reverse=True)\n",
        "\n",
        "        # Print results\n",
        "        for score, words in results:\n",
        "            print(\"\\\"{:s}\\\" : {:.02f}\".format(\" \".join(words), score))"
      ]
    },
    {
      "cell_type": "markdown",
      "metadata": {},
      "source": [
        "Now we can test as:"
      ]
    },
    {
      "cell_type": "code",
      "execution_count": null,
      "metadata": {
        "collapsed": true
      },
      "outputs": [],
      "source": [
        "sents = [\"once upon a time\",\n",
        "         \"the quick brown fox jumps over the lazy dog\"]\n",
        "load_and_score([s.split() for s in sents])"
      ]
    },
    {
      "cell_type": "markdown",
      "metadata": {},
      "source": [
        "### 1. Number agreement\n",
        "\n",
        "Compare **\"the boy and the girl [are/is]\"**. Which is more plausible according to your model?\n",
        "\n",
        "If your model doesn't order them correctly (*this is OK*), why do you think that might be? (answer in cell below)"
      ]
    },
    {
      "cell_type": "code",
      "execution_count": null,
      "metadata": {
        "collapsed": true
      },
      "outputs": [],
      "source": [
        "#### YOUR CODE HERE ####\n",
        "\n",
        "\n",
        "#### END(YOUR CODE) ####"
      ]
    },
    {
      "cell_type": "markdown",
      "metadata": {},
      "source": [
        "### 2. Type/semantic agreement\n",
        "\n",
        "Compare:\n",
        "- **\"peanuts are my favorite kind of [nut/vegetable]\"**\n",
        "- **\"when I'm hungry I really prefer to [eat/drink]\"**\n",
        "\n",
        "Of each pair, which is more plausible according to your model?\n",
        "\n",
        "How would you expect a 3-gram language model to perform at this example? How about a 5-gram model? (answer in cell below)"
      ]
    },
    {
      "cell_type": "code",
      "execution_count": null,
      "metadata": {
        "collapsed": true
      },
      "outputs": [],
      "source": [
        "#### YOUR CODE HERE ####\n",
        "\n",
        "\n",
        "\n",
        "\n",
        "#### END(YOUR CODE) ####"
      ]
    },
    {
      "cell_type": "markdown",
      "metadata": {},
      "source": [
        "### 3. Adjective ordering (just for fun)\n",
        "\n",
        "Let's repeat the exercise from Week 2:\n",
        "\n",
        "![Adjective Order](adjective_order.jpg)\n",
        "*source: https://twitter.com/MattAndersonBBC/status/772002757222002688?lang=en*\n",
        "\n",
        "We'll consider a toy example (literally), and consider all possible adjective permutations.\n",
        "\n",
        "Note that this is somewhat sensitive to training, and even a good language model might not get it all correct. Why might the NN fail, if the trigram model from Week 2 was able to solve it?"
      ]
    },
    {
      "cell_type": "code",
      "execution_count": null,
      "metadata": {
        "collapsed": true
      },
      "outputs": [],
      "source": [
        "prefix = \"I have lots of\".split()\n",
        "noun = \"toys\"\n",
        "adjectives = [\"square\", \"green\", \"plastic\"]\n",
        "inputs = []\n",
        "for adjs in itertools.permutations(adjectives):\n",
        "    words = prefix + list(adjs) + [noun]\n",
        "    inputs.append(words)\n",
        "    \n",
        "load_and_score(inputs, sort=True)"
      ]
    }
  ],
  "metadata": {
    "anaconda-cloud": {},
    "kernelspec": {
      "display_name": "Python 3",
      "language": "python",
      "name": "python3"
    },
    "language_info": {
      "codemirror_mode": {
        "name": "ipython",
        "version": 3
      },
      "file_extension": ".py",
      "mimetype": "text/x-python",
      "name": "python",
      "nbconvert_exporter": "python",
      "pygments_lexer": "ipython3",
      "version": "3.6.3"
    }
  },
  "nbformat": 4,
  "nbformat_minor": 1
}
